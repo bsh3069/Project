{
 "cells": [
  {
   "cell_type": "code",
   "execution_count": 1,
   "metadata": {},
   "outputs": [],
   "source": [
    "import pandas as pd\n",
    "import numpy as np\n",
    "import os\n",
    "import random\n",
    "import math\n",
    "import datetime\n",
    "import matplotlib.pyplot as plt\n"
   ]
  },
  {
   "cell_type": "code",
   "execution_count": null,
   "metadata": {},
   "outputs": [],
   "source": [
    "\"\"\"\n",
    "dataset은 102개의 컬럼으로 구성됨.\n",
    "첫번째 컬럼은 article을 1~10으로 나타냄\n",
    "두번째 컬럼은 real-word 데이터인데 첫번째 컬럼 article(1~10)을 user에게 추천해줬을때\n",
    "click시 1, non-click은 0. 0/1로 나타냄\n",
    "\n",
    "나머지 100개의 컬럼은 feature vector를 나타냄\n",
    "\n",
    "dataset2는 101개의 컬럼으로 구성됨. \n",
    "첫번째 컬럼은 article number로 1~10으로 나타냄\n",
    "그리고 첫번째 컬럼은 user에게 보여주고 user는 그것을 click\n",
    "\n",
    "\"\"\""
   ]
  },
  {
   "cell_type": "code",
   "execution_count": 2,
   "metadata": {},
   "outputs": [],
   "source": [
    "DATA_FILE_1 = \"C:/Users/seunghwa/Desktop/dataset.txt\"\n",
    "DATA_FILE_2 = \"C:/Users/seunghwa/Desktop/dataset_2.txt\""
   ]
  },
  {
   "cell_type": "code",
   "execution_count": 3,
   "metadata": {},
   "outputs": [],
   "source": [
    "def plot_cumulative_take_rate(cumulative_take_rates):\n",
    "    times = [x+2 for x in range(9999)]\n",
    "    y = []\n",
    "    for t in times:\n",
    "        y.append(cumulative_take_rates[t])\n",
    "    x = np.asarray(times)\n",
    "    y = np.asarray(y)\n",
    "    plt.plot(x, y)\n",
    "    max_index = np.argmax(y)\n",
    "    max_ctr = y[max_index]\n",
    "    max_alpha = x[max_index]\n",
    "    plt.plot(max_alpha, max_ctr, 'r*')\n",
    "    plt.show()"
   ]
  },
  {
   "cell_type": "code",
   "execution_count": 4,
   "metadata": {},
   "outputs": [],
   "source": [
    "def find_optimal_alpha_1(time):\n",
    "    return 1/np.sqrt(time)"
   ]
  },
  {
   "cell_type": "code",
   "execution_count": 21,
   "metadata": {},
   "outputs": [],
   "source": [
    "\n",
    "def LinUCB_modified(data_file, alpha=0.0, plot_or_not=True):\n",
    "    articles = [1, 2, 3, 4, 5, 6, 7, 8, 9, 10]\n",
    "    T = [x+2 for x in range(9999)]\n",
    "    m = 10 # number of articles\n",
    "    d = 100 # number of features\n",
    "    total_payoff = 0.0\n",
    "    time = 1 # to plot time series\n",
    "    ctrs = {} # dict of time vs cumulative take rates\n",
    "    ctr_num = 0.0 # initialising the CTR numerator\n",
    "    ctr_den = 1.0 # initialising the CTR denominator\n",
    "    matches = 0.0 # to record the number of matches between predicted arm and actual arm\n",
    "    first = True\n",
    "    with open(data_file, 'r') as data_file:\n",
    "        lines = data_file.readlines()\n",
    "        for line in lines:\n",
    "            features = line.split(' ')\n",
    "            real_article_chosen = features[0]\n",
    "            reward = features[1]\n",
    "            features = features[2:102]\n",
    "            if first:\n",
    "                first = False\n",
    "                A = np.zeros((m, d, d))\n",
    "                for a in range(10):\n",
    "                    A[a] = np.eye(d)\n",
    "                b = np.zeros((m, d, 1))\n",
    "            ratings = np.zeros(m)\n",
    "            for a in range(10):\n",
    "                A_inv = np.linalg.inv(A[a])\n",
    "                theta_a = A_inv.dot(b[a])\n",
    "                features = np.asarray(features).astype(int)\n",
    "                features = np.reshape(features, (100, 1))\n",
    "                # uncomment the below when you want alpha based on time (1/sqrt(T))\n",
    "                alpha = find_optimal_alpha_1(time) \n",
    "                ratings[a] = np.matmul(theta_a.T, features) + alpha * np.sqrt(np.matmul(np.matmul(features.T, A_inv), features))\n",
    "            chosen_article = articles[np.random.choice(np.flatnonzero(ratings == ratings.max()))]\n",
    "            if int(chosen_article) == int(real_article_chosen):\n",
    "                # print(\"match at:\",time)\n",
    "                matches += 1.0\n",
    "                total_payoff += float(reward)\n",
    "                A[int(real_article_chosen)-1] += features.dot(features.T)\n",
    "                b[int(real_article_chosen)-1] = b[int(real_article_chosen)-1] + int(reward)* features\n",
    "                ctr_num += int(reward)\n",
    "                # to account for the 1.0 initialization of ctr_den instead of 0.0\n",
    "                if ctr_den != 0.0:\n",
    "                    ctr_den += 1\n",
    "                ctrs[time] = ctr_num/(1.0*ctr_den)\n",
    "            else:\n",
    "                ctrs[time] = ctr_num/(1.0*ctr_den)\n",
    "            time += 1\n",
    "    if plot_or_not:\n",
    "        plot_cumulative_take_rate(ctrs)\n",
    "    total_payoff /= matches\n",
    "    return (ctrs[10000], total_payoff)"
   ]
  },
  {
   "cell_type": "code",
   "execution_count": 22,
   "metadata": {
    "scrolled": true
   },
   "outputs": [],
   "source": [
    "def call_LinUCB(data_file, number, alpha=0.0):\n",
    "    sum_ctr = 0.0\n",
    "    sum_payoff = 0.0\n",
    "    for i in range(number):\n",
    "        ctr, payoff = LinUCB_modified(data_file)\n",
    "        sum_ctr += ctr\n",
    "        sum_payoff += payoff\n",
    "    return sum_ctr/number, sum_payoff/number"
   ]
  },
  {
   "cell_type": "code",
   "execution_count": 23,
   "metadata": {
    "scrolled": true
   },
   "outputs": [
    {
     "data": {
      "image/png": "[encoded data removed]",
      "text/plain": [
       "<Figure size 432x288 with 1 Axes>"
      ]
     },
     "metadata": {
      "needs_background": "light"
     },
     "output_type": "display_data"
    },
    {
     "data": {
      "image/png": "[encoded data removed]",
      "text/plain": [
       "<Figure size 432x288 with 1 Axes>"
      ]
     },
     "metadata": {
      "needs_background": "light"
     },
     "output_type": "display_data"
    },
    {
     "data": {
      "image/png": "[encoded data removed]",
      "text/plain": [
       "<Figure size 432x288 with 1 Axes>"
      ]
     },
     "metadata": {
      "needs_background": "light"
     },
     "output_type": "display_data"
    },
    {
     "name": "stdout",
     "output_type": "stream",
     "text": [
      "Cumulative Take rate: 0.9165806133377895, Total Payoff: 0.9174576343867611\n",
      "Wall time: 7min 26s\n"
     ]
    }
   ],
   "source": [
    "%%time\n",
    "(ctr, payoff) = call_LinUCB(DATA_FILE_1, 3)\n",
    "print(\"Cumulative Take rate: \" + str(ctr) + \", Total Payoff: \" + str(payoff))"
   ]
  },
  {
   "cell_type": "code",
   "execution_count": 8,
   "metadata": {},
   "outputs": [],
   "source": [
    "def find_optimal_alpha_2():\n",
    "    values = np.arange(0.0001, 0.02, 0.001)\n",
    "    ctrs = []\n",
    "    for a in values:\n",
    "        ctr, payoff = LinUCB_modified(DATA_FILE_1, alpha=a, plot_or_not=False)\n",
    "        ctrs.append(ctr)\n",
    "        print(str(a) + \"---\" + str(ctr))\n",
    "    x = np.asarray(values)\n",
    "    y = np.asarray(ctrs)\n",
    "    plt.plot(x, y)\n",
    "    max_index = np.argmax(y)\n",
    "    max_ctr = y[max_index]\n",
    "    max_alpha = x[max_index]\n",
    "    print(\"alpha with maximum ctr: \" + str(max_alpha))\n",
    "    plt.plot(max_alpha, max_ctr, 'r*')\n",
    "    plt.show()"
   ]
  },
  {
   "cell_type": "code",
   "execution_count": 9,
   "metadata": {},
   "outputs": [
    {
     "name": "stdout",
     "output_type": "stream",
     "text": [
      "0.0001---0.8912621359223301\n",
      "0.0011---0.9415148609779482\n",
      "0.0021---0.9447619047619048\n",
      "0.0031---0.9456106870229007\n",
      "0.0041---0.9465648854961832\n",
      "0.0051---0.944234404536862\n",
      "0.0061---0.936007640878701\n",
      "0.0071---0.9401140684410646\n",
      "0.0081---0.9369024856596558\n",
      "0.0091---0.9301435406698565\n",
      "0.0101---0.9324452901998097\n",
      "0.011099999999999999---0.9314009661835749\n",
      "0.0121---0.9233716475095786\n",
      "0.0131---0.9191820837390458\n",
      "0.0141---0.9189971070395371\n",
      "0.015099999999999999---0.9172346640701071\n",
      "0.0161---0.9176245210727969\n",
      "0.0171---0.917953667953668\n",
      "0.0181---0.9145299145299145\n",
      "0.0191---0.9136276391554703\n",
      "alpha with maximum ctr: 0.0041\n"
     ]
    },
    {
     "data": {
      "image/png": "[encoded data removed]",
      "text/plain": [
       "<Figure size 432x288 with 1 Axes>"
      ]
     },
     "metadata": {
      "needs_background": "light"
     },
     "output_type": "display_data"
    }
   ],
   "source": [
    "find_optimal_alpha_2()"
   ]
  },
  {
   "cell_type": "code",
   "execution_count": 10,
   "metadata": {},
   "outputs": [],
   "source": [
    "def find_optimal_alpha_3():\n",
    "    deltas = np.arange(1, 2, 0.1)\n",
    "    ctrs = []\n",
    "    for d in deltas:\n",
    "        alpha = 1.0 + np.sqrt(math.log(2.0/d)/2)\n",
    "        ctr, payoff = LinUCB_modified(DATA_FILE_1, alpha, False)\n",
    "        ctrs.append(ctr)\n",
    "        print(str(alpha) + \"---\" + str(ctr))\n",
    "    x = np.asarray(deltas)\n",
    "    y = np.asarray(ctrs)\n",
    "    plt.plot(x, y)\n",
    "    plt.show()"
   ]
  },
  {
   "cell_type": "code",
   "execution_count": 11,
   "metadata": {},
   "outputs": [
    {
     "name": "stdout",
     "output_type": "stream",
     "text": [
      "1.5887050112577374---0.1543026706231454\n",
      "1.5467343965563263---0.1491317671092952\n",
      "1.5053838262973946---0.1544477028347996\n",
      "1.4641028528744755---0.15113871635610765\n",
      "1.4223002154502955---0.15332690453230471\n",
      "1.379263808220466---0.15282051282051282\n",
      "1.3340236154182885---0.15173116089613034\n",
      "1.285060458059141---0.16972034715525555\n",
      "1.22952180251321---0.1748792270531401\n",
      "1.1601457061359282---0.17311411992263057\n"
     ]
    },
    {
     "data": {
      "image/png": "[encoded data removed]",
      "text/plain": [
       "<Figure size 432x288 with 1 Axes>"
      ]
     },
     "metadata": {
      "needs_background": "light"
     },
     "output_type": "display_data"
    }
   ],
   "source": [
    "\n",
    "find_optimal_alpha_3()"
   ]
  },
  {
   "cell_type": "code",
   "execution_count": 12,
   "metadata": {},
   "outputs": [],
   "source": [
    "def LinUCB(data_file, alpha=0.0, plot_or_not=True):\n",
    "    articles = [1, 2, 3, 4, 5, 6, 7, 8, 9, 10]\n",
    "    T = [x+2 for x in range(9999)]\n",
    "    m = 10 # number of articles\n",
    "    d = 100 # number of features\n",
    "    time = 1 # to plot time series\n",
    "    matches = 0.0 # to record the number of matches between predicted arm and actual arm\n",
    "    first = True\n",
    "    with open(data_file, 'r') as data_file:\n",
    "        lines = data_file.readlines()\n",
    "        for line in lines:\n",
    "            features = line.split(' ')\n",
    "            real_article_chosen = features[0]\n",
    "            features = features[1:101]\n",
    "            if first:\n",
    "                first = False\n",
    "                A = np.zeros((m, d, d))\n",
    "                for a in range(10):\n",
    "                    A[a] = np.eye(d)\n",
    "                b = np.zeros((m, d, 1))\n",
    "            ratings = np.zeros(m)\n",
    "            for a in range(10):\n",
    "                A_inv = np.linalg.inv(A[a])\n",
    "                theta_a = A_inv.dot(b[a])\n",
    "                features = np.asarray(features).astype(int)\n",
    "                features = np.reshape(features, (100, 1))\n",
    "                # uncomment the below when you want alpha based on time (1/sqrt(T))\n",
    "                #alpha = find_optimal_alpha_1(time) \n",
    "                ratings[a] = np.matmul(theta_a.T, features) + alpha * np.sqrt(np.matmul(np.matmul(features.T, A_inv), features))\n",
    "            chosen_article = articles[np.random.choice(np.flatnonzero(ratings == ratings.max()))]\n",
    "            if int(chosen_article) == int(real_article_chosen):\n",
    "                #print(\"match at: \" + str(time))\n",
    "                reward = 1.0   \n",
    "                matches += 1.0\n",
    "            else:\n",
    "                reward = 0.0\n",
    "            A[int(chosen_article)-1] += features.dot(features.T)\n",
    "            b[int(chosen_article)-1] = b[int(chosen_article)-1] + int(reward)* features\n",
    "            time += 1\n",
    "    return (matches)"
   ]
  },
  {
   "cell_type": "code",
   "execution_count": 16,
   "metadata": {},
   "outputs": [
    {
     "name": "stdout",
     "output_type": "stream",
     "text": [
      "Overall number of matches: 9868.0\n"
     ]
    }
   ],
   "source": [
    "\n",
    "# %%time\n",
    "matches = LinUCB(DATA_FILE_2, alpha=0.0001)\n",
    "print(\"Overall number of matches: \" + str(matches))"
   ]
  },
  {
   "cell_type": "code",
   "execution_count": null,
   "metadata": {},
   "outputs": [],
   "source": []
  },
  {
   "cell_type": "code",
   "execution_count": null,
   "metadata": {},
   "outputs": [],
   "source": []
  }
 ],
 "metadata": {
  "kernelspec": {
   "display_name": "Python 3",
   "language": "python",
   "name": "python3"
  },
  "language_info": {
   "codemirror_mode": {
    "name": "ipython",
    "version": 3
   },
   "file_extension": ".py",
   "mimetype": "text/x-python",
   "name": "python",
   "nbconvert_exporter": "python",
   "pygments_lexer": "ipython3",
   "version": "3.7.3"
  }
 },
 "nbformat": 4,
 "nbformat_minor": 2
}
