{
 "cells": [
  {
   "cell_type": "code",
   "execution_count": 1,
   "metadata": {},
   "outputs": [],
   "source": [
    "import pandas as pd\n",
    "from gensim.test.utils import common_texts\n",
    "from gensim.models.doc2vec import Doc2Vec, TaggedDocument\n",
    "import collections\n",
    "from gensim.models import doc2vec\n",
    "from sklearn.model_selection import train_test_split\n",
    "import os\n",
    "import shutil\n",
    "import datetime\n",
    "# from tensorboardX import SummaryWriter\n",
    "# from gluoncv.utils import TrainingHistory\n",
    "import warnings\n",
    "import numpy as np"
   ]
  },
  {
   "cell_type": "code",
   "execution_count": 2,
   "metadata": {},
   "outputs": [
    {
     "name": "stderr",
     "output_type": "stream",
     "text": [
      "Using TensorFlow backend.\n"
     ]
    }
   ],
   "source": [
    "import os\n",
    "\n",
    "import tensorflow as tf\n",
    "from keras import layers\n",
    "# from keras.preprocessing.sequence import pad_sequences\n",
    "import numpy as np\n",
    "from keras import backend as K\n",
    "from keras.models import Model\n",
    "import keras\n",
    "from keras_self_attention import SeqSelfAttention\n",
    "from keras.layers import Lambda,Conv1D, MaxPooling1D,Input, Flatten, Dense,Reshape,Concatenate,LSTM,GlobalAveragePooling1D,Dropout\n",
    "from keras.backend import slice\n",
    "from keras.models import Sequential"
   ]
  },
  {
   "cell_type": "code",
   "execution_count": 3,
   "metadata": {},
   "outputs": [],
   "source": [
    "embedding=np.load('D:/paper/embedding_metrix.npy')"
   ]
  },
  {
   "cell_type": "code",
   "execution_count": 4,
   "metadata": {},
   "outputs": [
    {
     "data": {
      "text/plain": [
       "(62387, 480, 128)"
      ]
     },
     "execution_count": 4,
     "metadata": {},
     "output_type": "execute_result"
    }
   ],
   "source": [
    "embedding.shape"
   ]
  },
  {
   "cell_type": "code",
   "execution_count": 12,
   "metadata": {},
   "outputs": [
    {
     "data": {
      "text/plain": [
       "59792"
      ]
     },
     "execution_count": 12,
     "metadata": {},
     "output_type": "execute_result"
    }
   ],
   "source": [
    "len(data.PERSON_ID.unique())"
   ]
  },
  {
   "cell_type": "code",
   "execution_count": 20,
   "metadata": {},
   "outputs": [],
   "source": [
    "data=pd.read_csv('D:/all_after_filter.csv')\n",
    "# mask = data['PERSON_ID'].value_counts()[(data['PERSON_ID'].value_counts()>=4)].index\n",
    "# alldata = data[data.PERSON_ID.isin(mask)].reset_index(drop=True)\n",
    "person_id=data['PERSON_ID'].unique()\n",
    "# alldata.sort_values('RECU_FR_DT',inplace=True)\n",
    "# alldata.drop(columns=['KEY_SEQ','RECU_FR_DT','MAIN_ICDnorm'],inplace=True)\n",
    "person_id=person_id.tolist()\n",
    "train_label_df=pd.read_csv('D:/paper/project/label_train1.csv')\n",
    "test_label_df=pd.read_csv('D:/paper/project/label_test1.csv')\n",
    "person_doc_dict={key:value for value,key in enumerate(person_id)}"
   ]
  },
  {
   "cell_type": "code",
   "execution_count": 21,
   "metadata": {},
   "outputs": [],
   "source": [
    "# train에서 검증셋 추출\n",
    "from sklearn.model_selection import train_test_split\n",
    "new_train_label_df, cv_label_df =train_test_split(train_label_df, test_size=0.25, random_state=3)"
   ]
  },
  {
   "cell_type": "code",
   "execution_count": 22,
   "metadata": {},
   "outputs": [
    {
     "data": {
      "text/plain": [
       "((120000, 3), (40000, 3), (40000, 3))"
      ]
     },
     "execution_count": 22,
     "metadata": {},
     "output_type": "execute_result"
    }
   ],
   "source": [
    "new_train_label_df.shape ,cv_label_df.shape, test_label_df.shape"
   ]
  },
  {
   "cell_type": "code",
   "execution_count": 23,
   "metadata": {},
   "outputs": [],
   "source": [
    "class CSV_dataset():\n",
    "    def __init__(self, label_df, person_doc_dict, embedding):\n",
    "        super(CSV_dataset, self).__init__()\n",
    "        self.label_df = label_df\n",
    "        self.person_doc_dict = person_doc_dict\n",
    "        self.embedding = embedding\n",
    "    def __getitem__(self, item):\n",
    "        person_1 = self.label_df.iloc[item, 0]\n",
    "        person_2 = self.label_df.iloc[item, 1]\n",
    "        person_1_id=self.person_doc_dict[person_1]\n",
    "        person_2_id=self.person_doc_dict[person_2]\n",
    "        person_1_vec =self.embedding[person_1_id]\n",
    "        person_2_vec =self.embedding[person_2_id]\n",
    "        similarity = self.label_df.iloc[item, 2]\n",
    "        \n",
    "        return person_1_vec, person_2_vec, similarity\n",
    "    def __len__(self):\n",
    "        return len(self.label_df)"
   ]
  },
  {
   "cell_type": "code",
   "execution_count": 24,
   "metadata": {},
   "outputs": [],
   "source": [
    "train_ds = CSV_dataset(new_train_label_df, person_doc_dict, embedding)\n",
    "train_data_left =[]\n",
    "train_data_right = []\n",
    "train_label = []\n",
    "\n",
    "for i in range(10000):\n",
    "    r = train_ds.__getitem__(i)\n",
    "    train_data_left.append(r[0])\n",
    "    train_data_right.append(r[1])\n",
    "    train_label.append([r[2]])\n",
    "    \n",
    "train_data_left = np.array(train_data_left)\n",
    "train_data_right = np.array(train_data_right)\n",
    "train_label = np.array(train_label)"
   ]
  },
  {
   "cell_type": "code",
   "execution_count": 25,
   "metadata": {},
   "outputs": [],
   "source": [
    "cv_ds = CSV_dataset(cv_label_df, person_doc_dict, embedding)\n",
    "cv_data_left =[]\n",
    "cv_data_right = []\n",
    "cv_label = []\n",
    "\n",
    "\n",
    "for i in range(5000):\n",
    "    r = cv_ds.__getitem__(i)\n",
    "    cv_data_left.append(r[0])\n",
    "    cv_data_right.append(r[1])\n",
    "    cv_label.append([r[2]])\n",
    "\n",
    "cv_data_left = np.array(cv_data_left)\n",
    "cv_data_right = np.array(cv_data_right)\n",
    "cv_label = np.array(cv_label)\n"
   ]
  },
  {
   "cell_type": "code",
   "execution_count": 26,
   "metadata": {},
   "outputs": [],
   "source": [
    "test_ds = CSV_dataset(test_label_df, person_doc_dict, embedding)\n",
    "test_data_left =[]\n",
    "test_data_right = []\n",
    "test_label = []\n",
    "\n",
    "for i in range(5000):\n",
    "    r = test_ds.__getitem__(i)\n",
    "    test_data_left.append(r[0])\n",
    "    test_data_right.append(r[1])\n",
    "    test_label.append([r[2]])\n",
    "\n",
    "\n",
    "test_data_left = np.array(test_data_left)\n",
    "test_data_right = np.array(test_data_right)\n",
    "test_label = np.array(test_label)\n"
   ]
  },
  {
   "cell_type": "code",
   "execution_count": 27,
   "metadata": {},
   "outputs": [],
   "source": [
    "def difference(vectors):\n",
    "    (featsA, featsB) = vectors\n",
    "    return K.abs(featsA-featsB)\n",
    "def euclidean_distance(vectors):\n",
    "    # unpack the vectors into separate lists\n",
    "    (featsA, featsB) = vectors\n",
    "    # compute the sum of squared distances between the vectors\n",
    "    sumSquared = K.sum(K.square(featsA - featsB), axis=1,\n",
    "        keepdims=True)\n",
    "    # return the euclidean distance between the vectors\n",
    "    return K.sqrt(K.maximum(sumSquared, K.epsilon()))"
   ]
  },
  {
   "cell_type": "markdown",
   "metadata": {},
   "source": [
    "# 샴네트워크"
   ]
  },
  {
   "cell_type": "code",
   "execution_count": 28,
   "metadata": {},
   "outputs": [],
   "source": [
    "import tensorflow.keras.backend as K\n",
    "import tensorflow as tf\n",
    "def contrastive_loss(y, preds, margin=1):\n",
    "    # explicitly cast the true class label data type to the predicted\n",
    "    # class label data type (otherwise we run the risk of having two\n",
    "    # separate data types, causing TensorFlow to error out)\n",
    "    y = tf.cast(y, preds.dtype)\n",
    "    # calculate the contrastive loss between the true labels and\n",
    "    # the predicted labels\n",
    "    squaredPreds = K.square(preds)\n",
    "    squaredMargin = K.square(K.maximum(margin - preds, 0))\n",
    "    loss = K.mean(y * squaredPreds + (1 - y) * squaredMargin)\n",
    "    # return the computed contrastive loss to the calling function\n",
    "    return loss"
   ]
  },
  {
   "cell_type": "code",
   "execution_count": 40,
   "metadata": {},
   "outputs": [],
   "source": [
    "from keras import layers\n",
    "from keras import regularizers\n",
    "def build_siamese_model(input_shape):\n",
    "    # specify the inputs for the feature extractor network\n",
    "    inputs = Input(input_shape)\n",
    " \n",
    "    x = Conv1D(128, 3, padding=\"same\", activation=\"relu\",kernel_regularizer=regularizers.l2(0.0001))(inputs)\n",
    "    x = MaxPooling1D(pool_size= 2)(x)\n",
    "    x = Dropout(0.3)(x)\n",
    "    x = SeqSelfAttention(attention_activation='tanh')(x)  \n",
    "\n",
    "\n",
    "    x = Conv1D(64, 3, padding=\"same\", activation=\"relu\",kernel_regularizer=regularizers.l2(0.0001))(x)\n",
    "    x = MaxPooling1D(pool_size=2)(x)\n",
    "    x = Dropout(0.3)(x)\n",
    "    x = SeqSelfAttention(attention_activation='tanh')(x)\n",
    "    \n",
    "    x = Conv1D(32, 3, padding=\"same\", activation=\"relu\",kernel_regularizer=regularizers.l2(0.0001))(x)\n",
    "    x = MaxPooling1D(pool_size=2)(x)\n",
    "    x = Dropout(0.3)(x)\n",
    "    x = SeqSelfAttention(attention_activation='tanh')(x)\n",
    "    model = Model(inputs, x)\n",
    "    return model"
   ]
  },
  {
   "cell_type": "code",
   "execution_count": 41,
   "metadata": {},
   "outputs": [],
   "source": [
    "model = build_siamese_model((480,128))"
   ]
  },
  {
   "cell_type": "code",
   "execution_count": 42,
   "metadata": {},
   "outputs": [
    {
     "name": "stdout",
     "output_type": "stream",
     "text": [
      "Model: \"model_6\"\n",
      "__________________________________________________________________________________________________\n",
      "Layer (type)                    Output Shape         Param #     Connected to                     \n",
      "==================================================================================================\n",
      "input_8 (InputLayer)            (None, 480, 128)     0                                            \n",
      "__________________________________________________________________________________________________\n",
      "input_9 (InputLayer)            (None, 480, 128)     0                                            \n",
      "__________________________________________________________________________________________________\n",
      "model_5 (Model)                 (None, 60, 32)       94627       input_8[0][0]                    \n",
      "                                                                 input_9[0][0]                    \n",
      "__________________________________________________________________________________________________\n",
      "flatten_5 (Flatten)             (None, 1920)         0           model_5[1][0]                    \n",
      "__________________________________________________________________________________________________\n",
      "flatten_6 (Flatten)             (None, 1920)         0           model_5[2][0]                    \n",
      "__________________________________________________________________________________________________\n",
      "lambda_3 (Lambda)               (None, 1)            0           flatten_5[0][0]                  \n",
      "                                                                 flatten_6[0][0]                  \n",
      "__________________________________________________________________________________________________\n",
      "dense_1 (Dense)                 (None, 1)            2           lambda_3[0][0]                   \n",
      "==================================================================================================\n",
      "Total params: 94,629\n",
      "Trainable params: 94,629\n",
      "Non-trainable params: 0\n",
      "__________________________________________________________________________________________________\n"
     ]
    }
   ],
   "source": [
    "input_a =Input(shape=(480,128))\n",
    "process_a = model(input_a)\n",
    "input_b =Input(shape=(480,128))\n",
    "process_b = model(input_b)\n",
    "\n",
    "p1 = Flatten()(process_a)\n",
    "p2 = Flatten()(process_b)\n",
    "distance =Lambda(euclidean_distance)([p1,p2]) \n",
    "outputs1 = layers.Dense(1, activation='sigmoid',name='dense_1')(distance)\n",
    "model =  Model(inputs=[input_a,input_b], outputs=outputs1)\n",
    "model.compile(loss=contrastive_loss,optimizer='adam')\n",
    "model.summary()"
   ]
  },
  {
   "cell_type": "code",
   "execution_count": 43,
   "metadata": {},
   "outputs": [],
   "source": [
    "import tensorflow as tf\n",
    "from keras.callbacks import EarlyStopping"
   ]
  },
  {
   "cell_type": "code",
   "execution_count": 44,
   "metadata": {
    "scrolled": true
   },
   "outputs": [
    {
     "name": "stdout",
     "output_type": "stream",
     "text": [
      "Train on 10000 samples, validate on 5000 samples\n",
      "Epoch 1/100\n",
      "10000/10000 [==============================] - 417s 42ms/step - loss: 0.2759 - val_loss: 0.2709\n",
      "Epoch 2/100\n",
      "10000/10000 [==============================] - 414s 41ms/step - loss: 0.2686 - val_loss: 0.2663\n",
      "Epoch 3/100\n",
      "10000/10000 [==============================] - 416s 42ms/step - loss: 0.2644 - val_loss: 0.2627\n",
      "Epoch 4/100\n",
      "10000/10000 [==============================] - 414s 41ms/step - loss: 0.2610 - val_loss: 0.2602\n",
      "Epoch 5/100\n",
      "10000/10000 [==============================] - 408s 41ms/step - loss: 0.2583 - val_loss: 0.2584\n",
      "Epoch 6/100\n",
      "10000/10000 [==============================] - 405s 41ms/step - loss: 0.2558 - val_loss: 0.2575\n",
      "Epoch 7/100\n",
      "10000/10000 [==============================] - 408s 41ms/step - loss: 0.2545 - val_loss: 0.2565\n",
      "Epoch 8/100\n",
      "10000/10000 [==============================] - 405s 40ms/step - loss: 0.2526 - val_loss: 0.2556\n",
      "Epoch 9/100\n",
      "10000/10000 [==============================] - 411s 41ms/step - loss: 0.2513 - val_loss: 0.2552\n",
      "Epoch 10/100\n",
      "10000/10000 [==============================] - 411s 41ms/step - loss: 0.2495 - val_loss: 0.2600\n",
      "Epoch 11/100\n",
      "10000/10000 [==============================] - 406s 41ms/step - loss: 0.2481 - val_loss: 0.2581\n",
      "Epoch 12/100\n",
      "10000/10000 [==============================] - 407s 41ms/step - loss: 0.2463 - val_loss: 0.2596\n",
      "Restoring model weights from the end of the best epoch\n",
      "Epoch 00012: early stopping\n"
     ]
    }
   ],
   "source": [
    "es = EarlyStopping(monitor='val_loss',mode='min', verbose=1, patience=3, restore_best_weights=True)\n",
    "history =  model.fit([train_data_left, train_data_right], [train_label],validation_data=([cv_data_left, cv_data_right], [cv_label]), \n",
    "                                                                                  batch_size=128, epochs=100, callbacks=[es])"
   ]
  },
  {
   "cell_type": "code",
   "execution_count": 45,
   "metadata": {},
   "outputs": [
    {
     "data": {
      "image/png": "[encoded data removed]",
      "text/plain": [
       "<Figure size 432x288 with 1 Axes>"
      ]
     },
     "metadata": {
      "needs_background": "light"
     },
     "output_type": "display_data"
    }
   ],
   "source": [
    "from matplotlib import pyplot as plt\n",
    "## 질병만\n",
    "plt.plot(history.history['loss'])\n",
    "\n",
    "plt.plot(history.history['val_loss'])\n",
    "plt.title('model loss')\n",
    "plt.ylabel('loss')\n",
    "plt.xlabel('epoch')\n",
    "plt.legend(['train', 'validation'], loc='upper left')\n",
    "plt.show()"
   ]
  },
  {
   "cell_type": "code",
   "execution_count": 46,
   "metadata": {},
   "outputs": [],
   "source": [
    "pred = model.predict([test_data_left,test_data_right])"
   ]
  },
  {
   "cell_type": "code",
   "execution_count": 51,
   "metadata": {},
   "outputs": [
    {
     "data": {
      "text/plain": [
       "(array([0.46850997], dtype=float32), array([0.8993498], dtype=float32))"
      ]
     },
     "execution_count": 51,
     "metadata": {},
     "output_type": "execute_result"
    }
   ],
   "source": [
    "min(pred),max(pred)"
   ]
  },
  {
   "cell_type": "code",
   "execution_count": 52,
   "metadata": {},
   "outputs": [],
   "source": [
    "model.save('D:/paper/project/siamese.h5')"
   ]
  },
  {
   "cell_type": "code",
   "execution_count": 57,
   "metadata": {},
   "outputs": [],
   "source": [
    "from keras.models import load_model\n",
    "m = load_model('D:/paper/project/siamese.h5',custom_objects={'SeqSelfAttention':SeqSelfAttention,\n",
    "                                                                                     'contrastive_loss':contrastive_loss})"
   ]
  },
  {
   "cell_type": "code",
   "execution_count": null,
   "metadata": {},
   "outputs": [],
   "source": []
  },
  {
   "cell_type": "code",
   "execution_count": null,
   "metadata": {},
   "outputs": [],
   "source": []
  },
  {
   "cell_type": "code",
   "execution_count": null,
   "metadata": {},
   "outputs": [],
   "source": []
  },
  {
   "cell_type": "code",
   "execution_count": null,
   "metadata": {},
   "outputs": [],
   "source": []
  }
 ],
 "metadata": {
  "kernelspec": {
   "display_name": "Python 3",
   "language": "python",
   "name": "python3"
  },
  "language_info": {
   "codemirror_mode": {
    "name": "ipython",
    "version": 3
   },
   "file_extension": ".py",
   "mimetype": "text/x-python",
   "name": "python",
   "nbconvert_exporter": "python",
   "pygments_lexer": "ipython3",
   "version": "3.7.3"
  }
 },
 "nbformat": 4,
 "nbformat_minor": 2
}
