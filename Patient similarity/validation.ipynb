{
 "cells": [
  {
   "cell_type": "code",
   "execution_count": 1,
   "metadata": {},
   "outputs": [],
   "source": [
    "import pandas as pd\n",
    "from gensim.test.utils import common_texts\n",
    "from gensim.models.doc2vec import Doc2Vec, TaggedDocument\n",
    "import collections\n",
    "from gensim.models import doc2vec\n",
    "from sklearn.model_selection import train_test_split\n",
    "import os\n",
    "import shutil\n",
    "import datetime\n",
    "# from tensorboardX import SummaryWriter\n",
    "# from gluoncv.utils import TrainingHistory\n",
    "import warnings\n",
    "import numpy as np"
   ]
  },
  {
   "cell_type": "code",
   "execution_count": 2,
   "metadata": {},
   "outputs": [
    {
     "name": "stderr",
     "output_type": "stream",
     "text": [
      "Using TensorFlow backend.\n"
     ]
    }
   ],
   "source": [
    "import os\n",
    "\n",
    "import tensorflow as tf\n",
    "from keras import layers\n",
    "# from keras.preprocessing.sequence import pad_sequences\n",
    "import numpy as np\n",
    "from keras import backend as K\n",
    "from keras.models import Model\n",
    "import keras\n",
    "from keras_self_attention import SeqSelfAttention\n",
    "from keras.layers import Lambda,Conv1D, MaxPooling1D,Input, Flatten, Dense,Reshape,Concatenate,LSTM,GlobalAveragePooling1D\n",
    "from keras.backend import slice\n",
    "from keras.models import Sequential"
   ]
  },
  {
   "cell_type": "code",
   "execution_count": 3,
   "metadata": {},
   "outputs": [],
   "source": [
    "label = pd.read_csv('D:/paper/paper0311/binary_label.csv')\n",
    "label['label'] = label['label'].astype(str)\n",
    "label['label'].replace('10','010',inplace = True)\n",
    "label['label'].replace('1','001',inplace = True)\n",
    "label['label'].replace('11','011',inplace = True)"
   ]
  },
  {
   "cell_type": "markdown",
   "metadata": {},
   "source": [
    "# 단일질병 당뇨, 고혈압, 동맥경화 각 10명씩 추출하기"
   ]
  },
  {
   "cell_type": "code",
   "execution_count": 47,
   "metadata": {},
   "outputs": [],
   "source": [
    "single_d =[]\n",
    "single_h =[]\n",
    "single_b =[]\n",
    "\n",
    "for i in label[label['label']=='100'].PERSON_ID:\n",
    "    single_d.append(i)\n",
    "for i in label[label['label']=='010'].PERSON_ID:\n",
    "    single_h.append(i)\n",
    "for i in label[label['label']=='001'].PERSON_ID:\n",
    "    single_b.append(i)"
   ]
  },
  {
   "cell_type": "code",
   "execution_count": 48,
   "metadata": {},
   "outputs": [],
   "source": [
    "# 각 질병 별로 10명의 ID 추출\n",
    "import random\n",
    "from itertools import combinations\n",
    "single_diabet = []\n",
    "single_hyper = []\n",
    "single_blood = []\n",
    "random.seed(1)\n",
    "count=10\n",
    "for i in range(10):\n",
    "    d = random.choice(single_d)\n",
    "    single_diabet.append(d)\n",
    "    h = random.choice(single_h)\n",
    "    single_hyper.append(h)\n",
    "    b = random.choice(single_b)\n",
    "    single_blood.append(b)"
   ]
  },
  {
   "cell_type": "code",
   "execution_count": 49,
   "metadata": {},
   "outputs": [],
   "source": [
    "import tensorflow.keras.backend as K\n",
    "import tensorflow as tf\n",
    "def contrastive_loss(y, preds, margin=1):\n",
    "    squaredPreds = K.square(preds)\n",
    "    squaredMargin = K.square(K.maximum(margin - preds, 0))\n",
    "    loss = K.mean(y * squaredPreds + (1 - y) * squaredMargin)\n",
    "\n",
    "    return loss"
   ]
  },
  {
   "cell_type": "code",
   "execution_count": 50,
   "metadata": {},
   "outputs": [],
   "source": [
    "from keras.models import load_model\n",
    "single_model = load_model('D:/paper/0607/single_similarity.h5',custom_objects={'SeqSelfAttention':SeqSelfAttention,\n",
    "                                                                                     'contrastive_loss':contrastive_loss})"
   ]
  },
  {
   "cell_type": "code",
   "execution_count": 18,
   "metadata": {},
   "outputs": [
    {
     "data": {
      "text/plain": [
       "(142073, 200, 128)"
      ]
     },
     "execution_count": 18,
     "metadata": {},
     "output_type": "execute_result"
    }
   ],
   "source": [
    "embedding=np.load('D:/paper/paper0311/embedding_metrix.npy')\n",
    "embedding.shape"
   ]
  },
  {
   "cell_type": "code",
   "execution_count": 51,
   "metadata": {},
   "outputs": [],
   "source": [
    "data=pd.read_csv('D:/paper/paper0311/final_prepro0311.csv')\n",
    "mask = data['PERSON_ID'].value_counts()[(data['PERSON_ID'].value_counts()>=4)].index\n",
    "alldata = data[data.PERSON_ID.isin(mask)].reset_index(drop=True)\n",
    "person_id=alldata['PERSON_ID'].unique()\n",
    "alldata.sort_values('RECU_FR_DT',inplace=True)\n",
    "alldata.drop(columns=['KEY_SEQ','RECU_FR_DT','MAIN_ICDnorm'],inplace=True)\n",
    "person_id=person_id.tolist()\n",
    "# test_label_m=pd.read_csv('D:/paper/0607/test_m.csv')\n",
    "# test_label_s=pd.read_csv('D:/paper/0607/test_s.csv')\n",
    "person_doc_dict={key:value for value,key in enumerate(person_id)}"
   ]
  },
  {
   "cell_type": "code",
   "execution_count": 52,
   "metadata": {},
   "outputs": [],
   "source": [
    "group1_index = [person_doc_dict[person_id] for person_id in single_diabet]\n",
    "group2_index = [person_doc_dict[person_id] for person_id in single_hyper]\n",
    "group3_index = [person_doc_dict[person_id] for person_id in single_blood]"
   ]
  },
  {
   "cell_type": "code",
   "execution_count": 53,
   "metadata": {},
   "outputs": [],
   "source": [
    "group1_emb = embedding[group1_index, :]\n",
    "group1_emb = np.array(group1_emb)\n",
    "\n",
    "group2_emb = embedding[group2_index, :]\n",
    "group2_emb = np.array(group2_emb)\n",
    "\n",
    "group3_emb = embedding[group3_index, :]\n",
    "group3_emb = np.array(group3_emb)"
   ]
  },
  {
   "cell_type": "code",
   "execution_count": 54,
   "metadata": {},
   "outputs": [],
   "source": [
    "def get_single_pair():\n",
    "    index_list =[i for i in range(10)]\n",
    "    pairs = list(combinations(index_list, 2))\n",
    "    batch_1 = [i for i,j in pairs]\n",
    "    batch_2=[j for i,j in pairs]\n",
    "    return batch_1, batch_2\n",
    "batch_1, batch_2= get_single_pair()"
   ]
  },
  {
   "cell_type": "code",
   "execution_count": 55,
   "metadata": {},
   "outputs": [
    {
     "name": "stdout",
     "output_type": "stream",
     "text": [
      "pairs count: 100\n"
     ]
    }
   ],
   "source": [
    "def get_double_pair():\n",
    "    batch_list=[(i,j) for i in range(10) for j in range(10)]\n",
    "    print('pairs count:', len(batch_list))\n",
    "    batch1 = [i for i,j in batch_list]\n",
    "    batch2 = [j for i,j in batch_list]\n",
    "    return batch1, batch2\n",
    "batch_group1, batch_group2 = get_double_pair()"
   ]
  },
  {
   "cell_type": "code",
   "execution_count": 160,
   "metadata": {},
   "outputs": [],
   "source": [
    "def result(arr):\n",
    "    print('mean:', arr.mean())\n",
    "    print('max:', arr.max())\n",
    "    print('min:', arr.min())\n",
    "    print('-------------')"
   ]
  },
  {
   "cell_type": "code",
   "execution_count": 68,
   "metadata": {},
   "outputs": [],
   "source": [
    "# 당뇨&당뇨/ 고혈압&고혈압/ 동맥&동맥\n",
    "result_d = single_model.predict([group1_emb[batch_1],group1_emb[batch_2]])\n",
    "result_h = single_model.predict([group2_emb[batch_1],group2_emb[batch_2]])\n",
    "result_b = single_model.predict([group3_emb[batch_1],group3_emb[batch_2]])\n"
   ]
  },
  {
   "cell_type": "code",
   "execution_count": 161,
   "metadata": {},
   "outputs": [
    {
     "name": "stdout",
     "output_type": "stream",
     "text": [
      "mean: 0.97770005\n",
      "max: 0.9959625\n",
      "min: 0.86490524\n",
      "-------------\n",
      "mean: 0.9950759\n",
      "max: 0.99844897\n",
      "min: 0.9914564\n",
      "-------------\n",
      "mean: 0.37746242\n",
      "max: 0.9999406\n",
      "min: 0.0\n",
      "-------------\n"
     ]
    }
   ],
   "source": [
    "result(1-result_d[0])\n",
    "result(1-result_h[1])\n",
    "result(1-result_b[2])"
   ]
  },
  {
   "cell_type": "code",
   "execution_count": 162,
   "metadata": {},
   "outputs": [
    {
     "name": "stdout",
     "output_type": "stream",
     "text": [
      "mean: 0.98429954\n",
      "max: 0.99402386\n",
      "min: 0.9241588\n",
      "-------------\n",
      "mean: 0.99268806\n",
      "max: 0.9978821\n",
      "min: 0.98902553\n",
      "-------------\n",
      "mean: 0.6339434\n",
      "max: 0.9949537\n",
      "min: 0.30938068\n",
      "-------------\n"
     ]
    }
   ],
   "source": [
    "diabet_s =(3 - (result_d[0]+result_d[1]+result_d[2]))/3\n",
    "hyper_s =(3 - (result_h[0]+result_h[1]+result_h[2]))/3\n",
    "blood_s =(3 - (result_b[0]+result_b[1]+result_b[2]))/3\n",
    "\n",
    "result(diabet_s)\n",
    "result(hyper_s)\n",
    "result(blood_s)"
   ]
  },
  {
   "cell_type": "code",
   "execution_count": 163,
   "metadata": {},
   "outputs": [],
   "source": [
    "# 당뇨&고/ 고&당/ 당&동맥\n",
    "result_d_h = single_model.predict([group1_emb[batch_group1],group2_emb[batch_group2]])\n",
    "result_d_b = single_model.predict([group1_emb[batch_group1],group3_emb[batch_group2]])\n",
    "result_h_b = single_model.predict([group2_emb[batch_group1],group3_emb[batch_group2]])"
   ]
  },
  {
   "cell_type": "code",
   "execution_count": 164,
   "metadata": {},
   "outputs": [
    {
     "name": "stdout",
     "output_type": "stream",
     "text": [
      "mean: 0.34235698\n",
      "max: 0.39635137\n",
      "min: 0.3303453\n",
      "-------------\n",
      "mean: 0.09164371\n",
      "max: 0.5070984\n",
      "min: 0.0024122398\n",
      "-------------\n",
      "mean: 0.39122975\n",
      "max: 0.9902477\n",
      "min: 0.31020555\n",
      "-------------\n"
     ]
    }
   ],
   "source": [
    "b1 =3-(result_d_h[0]+result_d_h[1]+result_d_h[2])\n",
    "b2 =3-(result_d_b[0]+result_d_b[1]+result_d_b[2])\n",
    "b3 =3-(result_h_b[0]+result_h_b[1]+result_h_b[2])\n",
    "\n",
    "\n",
    "result(b1/3)\n",
    "result(b2/3)\n",
    "result(b3/3)"
   ]
  },
  {
   "cell_type": "markdown",
   "metadata": {},
   "source": [
    "# 다중 질병 분석"
   ]
  },
  {
   "cell_type": "code",
   "execution_count": 165,
   "metadata": {},
   "outputs": [],
   "source": [
    "multi_d_h =[]\n",
    "multi_d_b =[]\n",
    "multi_h_b =[]\n",
    "multi_d_h_b =[]\n",
    "\n",
    "for i in label[label['label']=='110'].PERSON_ID:\n",
    "    multi_d_h.append(i)\n",
    "for i in label[label['label']=='101'].PERSON_ID:\n",
    "    multi_d_b.append(i)\n",
    "for i in label[label['label']=='011'].PERSON_ID:\n",
    "    multi_h_b.append(i)\n",
    "for i in label[label['label']=='111'].PERSON_ID:\n",
    "    multi_d_h_b.append(i)"
   ]
  },
  {
   "cell_type": "code",
   "execution_count": 166,
   "metadata": {},
   "outputs": [],
   "source": [
    "# 다중질병 환자 별로 10명의 ID 추출\n",
    "d_h = []\n",
    "d_b = []\n",
    "d_h_b =[]\n",
    "h_b = []\n",
    "count = 10\n",
    "random.seed(1)\n",
    "for i in range(count):\n",
    "    d_h.append(random.choice(multi_d_h))\n",
    "    d_b.append(random.choice(multi_d_b))\n",
    "    h_b.append(random.choice(multi_h_b))\n",
    "    d_h_b.append(random.choice(multi_d_h_b))"
   ]
  },
  {
   "cell_type": "code",
   "execution_count": 184,
   "metadata": {},
   "outputs": [],
   "source": [
    "joint_model = load_model('D:/paper/0607/proposed_attention_model0426.h5',custom_objects={'SeqSelfAttention':SeqSelfAttention,\n",
    "                                                                                     'contrastive_loss':contrastive_loss})\n",
    "multi_model = load_model('D:/paper/0607/multi_similarity.h5',custom_objects={'SeqSelfAttention':SeqSelfAttention,\n",
    "                                                                                     'contrastive_loss':contrastive_loss})"
   ]
  },
  {
   "cell_type": "code",
   "execution_count": 189,
   "metadata": {},
   "outputs": [],
   "source": [
    "g1_index = [person_doc_dict[person_id] for person_id in d_h]\n",
    "g2_index = [person_doc_dict[person_id] for person_id in d_b]\n",
    "g3_index = [person_doc_dict[person_id] for person_id in h_b]\n",
    "g4_index = [person_doc_dict[person_id] for person_id in d_h_b]"
   ]
  },
  {
   "cell_type": "code",
   "execution_count": 190,
   "metadata": {},
   "outputs": [],
   "source": [
    "g1_emb = embedding[g1_index, :]\n",
    "g1_emb = np.array(g1_emb)\n",
    "\n",
    "g2_emb = embedding[g2_index, :]\n",
    "g2_emb = np.array(g2_emb)\n",
    "\n",
    "g3_emb = embedding[g3_index, :]\n",
    "g3_emb = np.array(g3_emb)\n",
    "\n",
    "g4_emb = embedding[g4_index, :]\n",
    "g4_emb = np.array(g4_emb)"
   ]
  },
  {
   "cell_type": "code",
   "execution_count": 202,
   "metadata": {},
   "outputs": [],
   "source": [
    "result_d_h = joint_model.predict([g1_emb[batch_1],g1_emb[batch_2]])\n",
    "result_d_b = joint_model.predict([g2_emb[batch_1],g2_emb[batch_2]])\n",
    "result_h_b = joint_model.predict([g3_emb[batch_1],g3_emb[batch_2]])\n",
    "result_d_b_h = joint_model.predict([g4_emb[batch_1],g4_emb[batch_2]])"
   ]
  },
  {
   "cell_type": "code",
   "execution_count": 204,
   "metadata": {},
   "outputs": [
    {
     "name": "stdout",
     "output_type": "stream",
     "text": [
      "mean: 0.8917903\n",
      "max: 0.986247\n",
      "min: 0.71320254\n",
      "-------------\n",
      "mean: 0.9436907\n",
      "max: 0.9770744\n",
      "min: 0.8543894\n",
      "-------------\n",
      "mean: 0.967227\n",
      "max: 0.9828665\n",
      "min: 0.94553477\n",
      "-------------\n",
      "mean: 0.97215956\n",
      "max: 0.99604625\n",
      "min: 0.9205981\n",
      "-------------\n"
     ]
    }
   ],
   "source": [
    "c1 = 3-(result_d_h[0]+result_d_h[1]+result_d_h[2])\n",
    "c2 = 3-(result_d_b[0]+result_d_b[1]+result_d_b[2])\n",
    "c3 = 3-(result_h_b[0]+result_h_b[1]+result_h_b[2])\n",
    "c4 = 3-(result_d_h_b[0]+result_d_h_b[1]+result_d_h_b[2])\n",
    "\n",
    "result(c1/3)\n",
    "result(c2/3)\n",
    "result(c3/3)\n",
    "result(c4/3)"
   ]
  },
  {
   "cell_type": "code",
   "execution_count": 209,
   "metadata": {},
   "outputs": [],
   "source": [
    "a1 = joint_model.predict([g1_emb[batch_group1],g2_emb[batch_group2]])# d_h,d_b\n",
    "a2 =joint_model.predict([g1_emb[batch_group1],g3_emb[batch_group2]])# d_h, h_b\n",
    "a3 = joint_model.predict([g1_emb[batch_group1],g4_emb[batch_group2]])#d_h d_h_b\n",
    "\n",
    "a4 = joint_model.predict([g2_emb[batch_group1],g3_emb[batch_group2]])# d_b h_b\n",
    "a5 = joint_model.predict([g2_emb[batch_group1],g4_emb[batch_group2]]) # d_b d_h_b\n",
    "\n",
    "a6 = joint_model.predict([g3_emb[batch_group1],g4_emb[batch_group2]]) # h_b d_h_b"
   ]
  },
  {
   "cell_type": "code",
   "execution_count": 210,
   "metadata": {},
   "outputs": [
    {
     "name": "stdout",
     "output_type": "stream",
     "text": [
      "mean: 0.6555903\n",
      "max: 0.87896675\n",
      "min: 0.3906949\n",
      "-------------\n",
      "mean: 0.5176883\n",
      "max: 0.86155695\n",
      "min: 0.38010302\n",
      "-------------\n",
      "mean: 0.6749493\n",
      "max: 0.8277831\n",
      "min: 0.42371318\n",
      "-------------\n",
      "mean: 0.71126264\n",
      "max: 0.89690024\n",
      "min: 0.6346264\n",
      "-------------\n",
      "mean: 0.9634049\n",
      "max: 0.9960595\n",
      "min: 0.79820466\n",
      "-------------\n",
      "mean: 0.75930154\n",
      "max: 0.94734025\n",
      "min: 0.67392784\n",
      "-------------\n"
     ]
    }
   ],
   "source": [
    "a11 = 3-(a1[0]+a1[1]+a1[2])\n",
    "a22 = 3-(a2[0]+a2[1]+a2[2])\n",
    "a33 = 3-(a3[0]+a3[1]+a3[2])\n",
    "a44 = 3-(a4[0]+a4[1]+a4[2])\n",
    "a55 = 3-(a5[0]+a5[1]+a5[2])\n",
    "a66 = 3-(a6[0]+a6[1]+a6[2])\n",
    "\n",
    "result(a11/3)\n",
    "result(a22/3)\n",
    "result(a33/3)\n",
    "result(a44/3)\n",
    "result(a55/3)\n",
    "result(a66/3)"
   ]
  },
  {
   "cell_type": "code",
   "execution_count": 217,
   "metadata": {},
   "outputs": [],
   "source": [
    "# 3개와 1가지 질병\n",
    "z1 = joint_model.predict([g4_emb[batch_group1], group1_emb[batch_group2]])\n",
    "z2= joint_model.predict([g4_emb[batch_group1], group2_emb[batch_group2]])\n",
    "z3 = joint_model.predict([g4_emb[batch_group1], group3_emb[batch_group2]])\n",
    "\n",
    "# 2개와 1가지질병 \n",
    "z4 = joint_model.predict([g1_emb[batch_group1], group1_emb[batch_group2]])\n",
    "z5 = joint_model.predict([g1_emb[batch_group1], group2_emb[batch_group2]])\n",
    "z6 = joint_model.predict([g1_emb[batch_group1], group3_emb[batch_group2]])\n",
    "\n",
    "z7 = joint_model.predict([g2_emb[batch_group1], group1_emb[batch_group2]])\n",
    "z8 = joint_model.predict([g2_emb[batch_group1], group2_emb[batch_group2]])\n",
    "z9 = joint_model.predict([g2_emb[batch_group1], group3_emb[batch_group2]])\n",
    "\n",
    "z10 = joint_model.predict([g3_emb[batch_group1], group1_emb[batch_group2]])\n",
    "z11 = joint_model.predict([g3_emb[batch_group1], group2_emb[batch_group2]])\n",
    "z12 = joint_model.predict([g3_emb[batch_group1], group3_emb[batch_group2]])\n",
    "# 3개와 2가지 질병\n",
    "z13 = joint_model.predict([g4_emb[batch_group1], g1_emb[batch_group2]])\n",
    "z14 = joint_model.predict([g4_emb[batch_group1], g2_emb[batch_group2]])\n",
    "z15 = joint_model.predict([g4_emb[batch_group1], g3_emb[batch_group2]])"
   ]
  },
  {
   "cell_type": "code",
   "execution_count": 218,
   "metadata": {},
   "outputs": [],
   "source": [
    "x1 = 3-(z1[0]+z1[1]+z1[2])\n",
    "x2 = 3-(z2[0]+z2[1]+z2[2])\n",
    "x3 = 3-(z3[0]+z3[1]+z3[2])\n",
    "x4 = 3-(z4[0]+z4[1]+z4[2])\n",
    "x5 = 3-(z5[0]+z5[1]+z5[2])\n",
    "x6 = 3-(z6[0]+z6[1]+z6[2])\n",
    "x7 = 3-(z7[0]+z7[1]+z7[2])\n",
    "x8 = 3-(z8[0]+z8[1]+z8[2])\n",
    "x9 = 3-(z9[0]+z9[1]+z9[2])\n",
    "x10 = 3-(z10[0]+z10[1]+z10[2])\n",
    "x11 = 3-(z11[0]+z11[1]+z11[2])\n",
    "x12 = 3-(z12[0]+z12[1]+z12[2])\n",
    "x13 = 3-(z13[0]+z13[1]+z13[2])\n",
    "x14 = 3-(z14[0]+z14[1]+z14[2])\n",
    "x15 = 3-(z15[0]+z15[1]+z15[2])"
   ]
  },
  {
   "cell_type": "code",
   "execution_count": 219,
   "metadata": {},
   "outputs": [
    {
     "name": "stdout",
     "output_type": "stream",
     "text": [
      "mean: 0.6934891\n",
      "max: 0.8159295\n",
      "min: 0.55888224\n",
      "-------------\n",
      "mean: 0.48033863\n",
      "max: 0.7176318\n",
      "min: 0.39348006\n",
      "-------------\n",
      "mean: 0.7546826\n",
      "max: 0.9168641\n",
      "min: 0.42882618\n",
      "-------------\n",
      "mean: 0.9242437\n",
      "max: 0.9810946\n",
      "min: 0.72317785\n",
      "-------------\n",
      "mean: 0.80298775\n",
      "max: 0.9746365\n",
      "min: 0.6909764\n",
      "-------------\n",
      "mean: 0.55185294\n",
      "max: 0.96728903\n",
      "min: 0.39367214\n",
      "-------------\n",
      "mean: 0.6299097\n",
      "max: 0.8382778\n",
      "min: 0.45718884\n",
      "-------------\n",
      "mean: 0.44899473\n",
      "max: 0.625972\n",
      "min: 0.36820722\n",
      "-------------\n",
      "mean: 0.67141694\n",
      "max: 0.865829\n",
      "min: 0.40312982\n",
      "-------------\n",
      "mean: 0.47939733\n",
      "max: 0.66381156\n",
      "min: 0.37183633\n",
      "-------------\n",
      "mean: 0.70044935\n",
      "max: 0.82165766\n",
      "min: 0.6174549\n",
      "-------------\n",
      "mean: 0.9283242\n",
      "max: 0.9819563\n",
      "min: 0.72453594\n",
      "-------------\n",
      "mean: 0.6749493\n",
      "max: 0.8277831\n",
      "min: 0.42371318\n",
      "-------------\n",
      "mean: 0.96340483\n",
      "max: 0.9960595\n",
      "min: 0.79820466\n",
      "-------------\n",
      "mean: 0.7593014\n",
      "max: 0.94734025\n",
      "min: 0.67392784\n",
      "-------------\n"
     ]
    }
   ],
   "source": [
    "result(x1/3)\n",
    "result(x2/3)\n",
    "result(x3/3)\n",
    "result(x4/3)\n",
    "result(x5/3)\n",
    "result(x6/3)\n",
    "result(x7/3)\n",
    "result(x8/3)\n",
    "result(x9/3)\n",
    "result(x10/3)\n",
    "result(x11/3)\n",
    "result(x12/3)\n",
    "result(x13/3)\n",
    "result(x14/3)\n",
    "result(x15/3)"
   ]
  },
  {
   "cell_type": "code",
   "execution_count": null,
   "metadata": {},
   "outputs": [],
   "source": []
  },
  {
   "cell_type": "code",
   "execution_count": null,
   "metadata": {},
   "outputs": [],
   "source": []
  },
  {
   "cell_type": "code",
   "execution_count": null,
   "metadata": {},
   "outputs": [],
   "source": []
  },
  {
   "cell_type": "code",
   "execution_count": null,
   "metadata": {},
   "outputs": [],
   "source": []
  },
  {
   "cell_type": "code",
   "execution_count": null,
   "metadata": {},
   "outputs": [],
   "source": []
  },
  {
   "cell_type": "code",
   "execution_count": null,
   "metadata": {},
   "outputs": [],
   "source": []
  },
  {
   "cell_type": "code",
   "execution_count": null,
   "metadata": {},
   "outputs": [],
   "source": []
  },
  {
   "cell_type": "code",
   "execution_count": null,
   "metadata": {},
   "outputs": [],
   "source": []
  },
  {
   "cell_type": "code",
   "execution_count": null,
   "metadata": {},
   "outputs": [],
   "source": []
  },
  {
   "cell_type": "code",
   "execution_count": null,
   "metadata": {},
   "outputs": [],
   "source": []
  },
  {
   "cell_type": "code",
   "execution_count": null,
   "metadata": {},
   "outputs": [],
   "source": [
    "\n",
    "# 단일 질병 샘플 추출하기 "
   ]
  }
 ],
 "metadata": {
  "kernelspec": {
   "display_name": "Python 3",
   "language": "python",
   "name": "python3"
  },
  "language_info": {
   "codemirror_mode": {
    "name": "ipython",
    "version": 3
   },
   "file_extension": ".py",
   "mimetype": "text/x-python",
   "name": "python",
   "nbconvert_exporter": "python",
   "pygments_lexer": "ipython3",
   "version": "3.7.3"
  }
 },
 "nbformat": 4,
 "nbformat_minor": 2
}
